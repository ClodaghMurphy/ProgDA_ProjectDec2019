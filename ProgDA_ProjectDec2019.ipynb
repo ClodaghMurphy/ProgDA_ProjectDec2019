{
 "cells": [
  {
   "cell_type": "markdown",
   "metadata": {},
   "source": [
    "# Project 2019 Programming for Data Analysis\n",
    "\n",
    "* Choose a real-world phenomenon that can be measured and for which you could collect at least one-hundred data points across at least four different variables.<br>\n",
    "* Investigate the types of variables involved, their likely distributions, and their relationships with each other<br>\n",
    "* Synthesise/simulate a data set as closely matching their properties as possible.<br>\n",
    "* Detail your research and implement the simulation in a Jupyter notebook – the data set itself can simply be displayed in an output cell within the notebook.<br>\n"
   ]
  },
  {
   "cell_type": "markdown",
   "metadata": {},
   "source": [
    "# Section 1"
   ]
  },
  {
   "cell_type": "markdown",
   "metadata": {},
   "source": [
    "# Choose a real-world phenomenon that can be measured and for which you could collect at least one-hundred data points across at least four different variables."
   ]
  },
  {
   "cell_type": "markdown",
   "metadata": {},
   "source": [
    "For this project, I have selected a dataset that is available from the Irish Government's open data project to research, investigate then simulate some of the variables.<br>\n",
    "The Open Data project is an initiative by the government of Ireland that makes data held by public bodies available and easily accessible online for reuse and redistribution to create interest and encourage engagement with open data.<br>\n",
    "I have chosen the [Office of Public Works Heritage Site Details](https://www.opw.ie/en/media/opw-heritage-site-details.csv) open dataset which contains one hundred data points across twenty-four variables and was collected in 2015.<br>\n",
    "The Office of Public Works (OPW) is a Government department with responsibility for the day-to-day running of all National Monuments in State care and National Historic Properties. <br>\n",
    "\n",
    "The real-world phenomenon that is presented is a collection of information relating to the Heritage Sites that are open to the public.  <br>\n",
    "I chose this dataset because it is of interest to me in my professional life. <br>\n",
    "In the next section of the project I will explore the kinds of variables that appear in a dataset relating to Heritage Sites, the relationships (if any) between variables and the distributions that are apparent."
   ]
  },
  {
   "cell_type": "markdown",
   "metadata": {},
   "source": [
    "***"
   ]
  },
  {
   "cell_type": "markdown",
   "metadata": {},
   "source": [
    "# Section 2"
   ]
  },
  {
   "cell_type": "markdown",
   "metadata": {},
   "source": [
    "# Investigate the types of variables involved, their likely distributions, and their relationships with each other"
   ]
  },
  {
   "cell_type": "markdown",
   "metadata": {},
   "source": [
    "**Investigation of the original OPW dataset**\n",
    "\n",
    "In order to simulate a dataset on the subject of Heritage States owned by the State/ citizens of Ireland I must investigate a pre-existing one.[Office of Public Works Heritage Site Details](https://www.opw.ie/en/media/opw-heritage-site-details.csv)<br>\n",
    "Considering that the dataset was made available as part of a government initiative to create interest and encourage engagement with open data - it was of poor quality.<br>\n",
    "* The original dataset is relatively small - 100 records and 24 variables - however, the csv file was un-necessarily large when loading due to the inclusion of digits on line 2424 of the original spreadsheet.\n",
    "* The financial data - in this case cost of entry for different demographics was put together in one column along with other visitor information. This created difficulties for my investigation.\n",
    "I have adjusted it separately, re-save this truncated version in this github repository and continued the project with the updated format.\n",
    "\n",
    "\n",
    "**Observations On The Types of Variables**\n",
    "\n",
    "The dataset contains information about 100 unique, named Heritage Sites managed by The Office of Public Works collected in 2015.<br>\n",
    "There are 24 different variables in the original dataset, most of which relate to visitor information e.g. GPS co-ordinates and contact details for the site.\n",
    "The following points are relevant to this exercise and the objective of synthesising data set in a methodical way which can match the contents.\n",
    "\n",
    "#### Heritage Site Name\n",
    "* Every Heritage Site name is a unique object\n",
    "\n",
    "#### Pricing structures in Euro, Datatype: Integer\n",
    "* Adult\tentrance price - an integer between 0 and 12 \n",
    "* Senior / Group entrance price\t- an integer between 0 and 9 \n",
    "* Child entrance price - an integer between 0 and 7 \n",
    "* Student entrance price - an integer between 0 and 8 \n",
    "* Family entrance price - an integer between 0 and 32 \n",
    "\n",
    "* 51% of the sites have free admission, 35% have an adult entrance fee of €5.\n",
    "* When an entrance fee is paid, there is a price point for all types of visitors.\n",
    "* An individual adult is the most expensive ticket with all others reducing by 1 or 2 euro from that point\n",
    "* A family ticket is approximately the same price as the sum of two adult plus one child tickets\n",
    "\n",
    "#### Visitor Numbers, Datatype : Integer\n",
    "* 2015 Visitor Numbers contain integers that range from 0 - 553,348. As previously state there is a strong relationship between the Region and Visitor Numbers.\n",
    "\n",
    "* 31 of the entries for 2015 Visitor Numbers contain a null value.\n",
    "* The remaining 69 datapoints show that visitor numbers range from 1750 to 553348\n",
    "* The total number of visitors is 5.1 million people\n",
    "\n",
    "\n",
    "#### Geographical Location, Datatype : Object\n",
    "* The county where the Heritage Site is located affects the Regional classification, if this information were to be shuffled, the county/region need to be linked.\n",
    "* There is no relationship between the number of Heritage Sites in a county and the visitor numbers.\n",
    "* There is a strong relationship between the Region and the Visitor Numbers.\n",
    "* Instead of joining the county and region, I will therefore omit the county variable entirely my reason for this is because the county variable has no strong relationship with any distribution - the regionality is a stronger one.\n",
    "\n",
    "Heritage Sites are in 7 different geographical regions, \n",
    "* Dublin\n",
    "* Midlands & East Coast \n",
    "* North-West\n",
    "* Shannon\n",
    "* South-East\n",
    "* South-West\n",
    "* West\n",
    "\n",
    "The majority of sites are located in Dublin, South - East and South-West.\n",
    "\n",
    "#### Cafe Facilities, Datatype : Integer\n",
    "In the original dataset, 9 out of 100 Heritage Sites have a Cafe on site\n",
    "\n",
    "#### Opening Dates, Datatype : Integer\n",
    "42 of the sites are open all year round, the remainder have seasonal opening times.\n"
   ]
  },
  {
   "cell_type": "markdown",
   "metadata": {},
   "source": [
    "**Likely Distributions in the OPW Heritage Sites Dataset used to inform a synthesised Dataset**"
   ]
  },
  {
   "cell_type": "markdown",
   "metadata": {},
   "source": [
    "What is the type of distribution that appears and that can be used to inform a synthesised Dataset?<br>\n",
    "The normal distribution is a very common one and can be considered the standard distribution, therefore I will use it where there is an option in randomly generating variables but most of the simple random data functions in the random library use the uniform distribution.\n",
    "On two occasions, the binomial distribution is used, further information about this decision appears below.<br>\n",
    "In addition, the central limit theorem can be used to support my decision to use normal distribution. <br>\n",
    "This theorem states that the mean of any sample of variables (with finite mean and variance) with any distribution will approximate the normal distribution."
   ]
  },
  {
   "cell_type": "markdown",
   "metadata": {},
   "source": [
    "**Relationships in the OPW Heritage Sites Dataset used to inform a synthesised Dataset**"
   ]
  },
  {
   "cell_type": "markdown",
   "metadata": {},
   "source": [
    "There is a strong relationship between the Region and the Visitor Numbers in the original Dataset.\n",
    "To me, this is the the most interesting variable in the original dataset.\n",
    "\n",
    "An assumption coming to the dataset would be that the busiest sites are in the most populous region of the country.\n",
    "This assumption is born out by Failte Ireland's (the National Tourism Development Authority) 2018 figures where 4 of the top 10 paying visitor attrations are in Dublin with a further two in the South-East. However, other sites on the list are in underpopulated areas e.g. the Cliffs of Moher that are world renowned for their remoteness and unspolit beauty.\n",
    "\n",
    "I do not expect to be able to recreate this subtle relationship with synthesised data, however the relationships that are produced will be explored in due course."
   ]
  },
  {
   "cell_type": "markdown",
   "metadata": {},
   "source": [
    "\n",
    "\n"
   ]
  },
  {
   "cell_type": "markdown",
   "metadata": {},
   "source": [
    "\n"
   ]
  },
  {
   "cell_type": "markdown",
   "metadata": {},
   "source": [
    "# Section 3"
   ]
  },
  {
   "cell_type": "markdown",
   "metadata": {},
   "source": [
    "# Synthesise/simulate a data set as closely matching the properties of the original as is possible."
   ]
  },
  {
   "cell_type": "code",
   "execution_count": 2,
   "metadata": {},
   "outputs": [],
   "source": [
    "#Import modules required for the Assignment\n",
    "#NumPy package\n",
    "import numpy as np\n",
    "#Pandas library\n",
    "import pandas as pd\n",
    "#Seaborn package\n",
    "import seaborn as sns\n",
    "#Matplotlib library\n",
    "import matplotlib.pyplot as plt"
   ]
  },
  {
   "cell_type": "markdown",
   "metadata": {},
   "source": [
    "Following on from the findings in Section 2, I will simulate a data set as closely matching their properties as possible using the numpy random package thus building on my [previous work](http://localhost:8888/?token=98bc2512905f44f91efe55dc0b350cacc78b93d3f4e55086) carried out during this course where I explored the numpy random package.<br>\n",
    "Unless otherwise stated, the scripts come from this project.<br>\n",
    "I will :\n",
    "- Permute the 100 Heritage Sites names from the original OPW Datset using random.permutation\n",
    "- Synthesise 100 variables from the choice of seven Region names using random.choice\n",
    "- Synthesise random data for the number of visitors from integers that range from 0 - 553,348 using random.randint\n",
    "- Synthesise random data for the Adult price point variable and ensure that 51 out of the 100 Sites have free entry / zero value using random.randint and permutation<br>\n",
    "- Synthesise random data for the number of cafes available at Heritage Sites using random.binomial<br>\n",
    "- Synthesise random data for the opening hours at Heritage sites using random.binomial<br>\n",
    "\n",
    "\n",
    "Then merge these dataframes into one large dataset that mirrors the original.\n"
   ]
  },
  {
   "cell_type": "markdown",
   "metadata": {},
   "source": [
    "### Setting the seed"
   ]
  },
  {
   "cell_type": "markdown",
   "metadata": {},
   "source": [
    "The term \"seed\" refers to the starting position of generating pseudo-random numbers.\n",
    "\n",
    "If the seed is known/set it is possible to predict the pattern because the algorithm will do the same equation and return the same numbers at each iteration. \n",
    "\n",
    "The seed will be set in each script to ensure uniformity in the output and so that any any comments or observation on the output will make sense to you, the reader."
   ]
  },
  {
   "cell_type": "markdown",
   "metadata": {},
   "source": [
    "### Permute the Heritage Site names and create a new dataframe\n",
    "It is not possible to randomly generate this text, therefore I will use the selection the provided in the original Dataset that informs this project."
   ]
  },
  {
   "cell_type": "code",
   "execution_count": 4,
   "metadata": {},
   "outputs": [],
   "source": [
    "df=pd.read_csv(\"https://raw.githubusercontent.com/ClodaghMurphy/ProgDA_ProjectDec2019/master/opw-heritage-site-detailsNEW.csv\", encoding=\"ISO-8859–1\",nrows=100)"
   ]
  },
  {
   "cell_type": "code",
   "execution_count": 5,
   "metadata": {},
   "outputs": [],
   "source": [
    "#code adapted from https://stackoverflow.com/questions/49545599/how-to-turn-a-pandas-column-into-array-and-transpose-it\n",
    "New_Names = df[['Name']]\n",
    "#Set seed at 19 to ensure identical results at every iteration\n",
    "np.random.seed(19)\n",
    "#Permute the synthesised dataframe. Permute is a function from the random package that rearranges an array\n",
    "#this code ensures the output will be in column format\n",
    "df1 = pd.DataFrame((np.random.permutation(New_Names)), columns = ['New_Names'])\n",
    "#df1"
   ]
  },
  {
   "cell_type": "markdown",
   "metadata": {},
   "source": [
    "### Use .random.choice to produce a 100 row dataframe using the given 7 OPW regions"
   ]
  },
  {
   "cell_type": "code",
   "execution_count": 6,
   "metadata": {},
   "outputs": [],
   "source": [
    "#The .random.choice function randomly chooses a sample from an array\n",
    "#Code adapted from https://pynative.com/python-random-sample/\n",
    "#Provide array of 7 OPW regions as they appear in the original dataset\n",
    "Regions = ([\"Dublin\", \"Midlands & East Coast\", \"North-West\", \"Shannon\", \"South-East\", \"South-West\", \"West\"])\n",
    "#Set seed at 19 to ensure identical results at every iteration\n",
    "np.random.seed(19)\n",
    "#When 100 is entered into the argument, 100 selections are output\n",
    "#Calling pd.Dataframe ensures the output is in a datafame format\n",
    "df2 = pd.DataFrame((np.random.choice(Regions, 100)), columns = ['Region'])\n",
    "#A uniform distribution is assumed in this function\n",
    "#df2"
   ]
  },
  {
   "cell_type": "markdown",
   "metadata": {},
   "source": [
    "### Synthesise random data for the number of visitors from integers that range from 0 - 553348"
   ]
  },
  {
   "cell_type": "code",
   "execution_count": 15,
   "metadata": {},
   "outputs": [],
   "source": [
    "#Set seed at 19 to ensure identical results at every iteration\n",
    "np.random.seed(19)\n",
    "#Code adapted from library documentation https://docs.scipy.org/doc/numpy-1.15.0/reference/routines.random.html\n",
    "#As per the numpy documentation, this command returns random integers from the “discrete uniform” distribution\n",
    "df3 = pd.DataFrame((np.random.randint(0, high=553348, size=100, dtype='l')), columns = ['New_Vis_Numbers'])"
   ]
  },
  {
   "cell_type": "markdown",
   "metadata": {},
   "source": [
    "Instead of forcing a nil amount of Visitors for 31 Heritage Site, I will allow the numpy library to generate data.<br>\n",
    "My reason for this choice, is that the number of visitors in those sites was not zero - it was simply not collected for various business reasons e.g. the site is a main thoroughfare in the case of St. Stephen's Green. It will be more interesting dataset if these statistics are contained in it."
   ]
  },
  {
   "cell_type": "code",
   "execution_count": 31,
   "metadata": {},
   "outputs": [
    {
     "data": {
      "image/png": "[encoded data removed]",
      "text/plain": [
       "<Figure size 432x288 with 1 Axes>"
      ]
     },
     "metadata": {
      "needs_background": "light"
     },
     "output_type": "display_data"
    }
   ],
   "source": [
    "#Code adapted from https://realpython.com/python-histograms/\n",
    "plt.hist(df3)\n",
    "plt.xlabel('Value - Visitor Numbers')\n",
    "plt.ylabel('Frequency')\n",
    "plt.title('Histogram showing random distribution of Visitor Numbers')\n",
    "plt.show()"
   ]
  },
  {
   "cell_type": "markdown",
   "metadata": {},
   "source": [
    "### Synthesise random data for the Adult price point variable and ensure that 51 out of the 100 Sites have free entry / zero value"
   ]
  },
  {
   "cell_type": "markdown",
   "metadata": {},
   "source": [
    "There are five different categories of visitor in the original dataset\n",
    "Adult, Senior / Group, Child, Student and Family.<br>\n",
    "I have focussed on the Adult price because it is the most expensive individual entry price and the other amounts are based on it."
   ]
  },
  {
   "cell_type": "code",
   "execution_count": 24,
   "metadata": {},
   "outputs": [],
   "source": [
    "#Set seed at 19 to ensure identical results at every iteration\n",
    "np.random.seed(19)\n",
    "#Adult entrance price -  100 integers between 1 and 12 \n",
    "#0-12 is not used because this would result in some random values of 0\n",
    "#Code adapted from library documentation https://docs.scipy.org/doc/numpy-1.15.0/reference/routines.random.html\n",
    "Adult = np.random.randint(1, high=12, size=100, dtype='l')\n",
    "Adult = pd.DataFrame(Adult)\n",
    "#Code adapted from https://stats.stackexchange.com/questions/283572/using-iloc-to-set-values/283575\n",
    "#Replace 51 values with free entry/zero\n",
    "Adult.loc[0:50,0] = 0\n",
    "#Permute the synthesised dataframe. Permute is used because shuffle creates a \"key error\" when used with a dataframe.\n",
    "df4 = pd.DataFrame(np.random.permutation(Adult), columns = ['Adult'])\n",
    "#df4\n"
   ]
  },
  {
   "cell_type": "markdown",
   "metadata": {},
   "source": [
    "### Synthesise random data for the number of cafes and opening hours at Heritage Sites"
   ]
  },
  {
   "cell_type": "markdown",
   "metadata": {},
   "source": [
    "In the original dataset, there is lots of visitor information jumbled together in once cell covering facts such as whether there are toilets, parking, wheelchair access and cafes on site or nearby.\n",
    "From the dataset I extracted that 100 Heritage Sites have a Cafe on site.\n",
    "Similarly, through scanning through the original data in excel format which goes into great detail about the individual local opening hours I can put the information in a much simpler way - 42 of the sites are open all year round, the remainder have seasonal opening times.\n",
    "(These investigations are not shown as part of this assignment - only the results.)\n",
    "\n",
    "One of the learning Outcomes for this module is that I will be able to model real-world problems as computing problems.\n",
    "I can display this ability through turning this data-intensive information into a Boolean format, i.e.,\n",
    "The Heritage Site has a Cafe - True/False\n",
    "The Heritage Site is open all year - True/False\n",
    "\n",
    "In order to synthesise data to meet the requirements I will use the binomial distribution from the numpy library.\n",
    "In the assignment that I completed earlier this year, I wrote about the binomial distribution which can be used in any instance repeated multiple times where there are deemed to be two possible outcomes - success or failure.\n",
    "The \"probability of success\" input is taken from the findings in the original dataset 9/100 and 42/100 respectively.\n",
    "\n"
   ]
  },
  {
   "cell_type": "code",
   "execution_count": 23,
   "metadata": {},
   "outputs": [],
   "source": [
    "#Set seed at 19 to ensure identical results at every iteration\n",
    "np.random.seed(19)\n",
    "#Code adapted from https://docs.scipy.org/doc/numpy-1.15.0/reference/generated/numpy.random.binomial.html\n",
    "n, p = 1, .09  # number of trials, probability of each trial is 9/100\n",
    "df5 = pd.DataFrame((np.random.binomial(n, p, 100)), columns = ['Cafe'])\n",
    "#df5"
   ]
  },
  {
   "cell_type": "code",
   "execution_count": 22,
   "metadata": {},
   "outputs": [],
   "source": [
    "#Set seed at 19 to ensure identical results at every iteration\n",
    "np.random.seed(19)\n",
    "#Code adapted from https://docs.scipy.org/doc/numpy-1.15.0/reference/generated/numpy.random.binomial.html\n",
    "n, p = 1, .42  # number of trials, probability of each trial is 42/100\n",
    "df6 = pd.DataFrame((np.random.binomial(n, p, 100)), columns = ['Year Round Opening'])\n",
    "#df6"
   ]
  },
  {
   "cell_type": "code",
   "execution_count": 39,
   "metadata": {},
   "outputs": [],
   "source": [
    "#Code adapted from https://stackoverflow.com/questions/28135436/concatenate-rows-of-two-dataframes-in-pandas\n",
    "New_Dataset = pd.concat([df1,df2, df3, df4, df5, df6,], axis=1)\n",
    "#The following line can be uncommented (remove the # symbol)in order to print the New Dataset.\n",
    "#New_Dataset"
   ]
  },
  {
   "cell_type": "markdown",
   "metadata": {},
   "source": [
    "### Summary Data of the New Dataset"
   ]
  },
  {
   "cell_type": "code",
   "execution_count": 37,
   "metadata": {
    "scrolled": true
   },
   "outputs": [
    {
     "name": "stdout",
     "output_type": "stream",
     "text": [
      "<class 'pandas.core.frame.DataFrame'>\n",
      "RangeIndex: 100 entries, 0 to 99\n",
      "Data columns (total 6 columns):\n",
      "New_Names             100 non-null object\n",
      "Region                100 non-null object\n",
      "New_Vis_Numbers       100 non-null int32\n",
      "Adult                 100 non-null int32\n",
      "Cafe                  100 non-null int32\n",
      "Year Round Opening    100 non-null int32\n",
      "dtypes: int32(4), object(2)\n",
      "memory usage: 3.2+ KB\n"
     ]
    }
   ],
   "source": [
    "New_Dataset.info()"
   ]
  },
  {
   "cell_type": "markdown",
   "metadata": {},
   "source": [
    ".info is used to provide a concise summary of the information contained in the New_Dataset DataFrame.<br>\n",
    "The output above tells me that there are six columns, there are 100 rows of information in each, the datatypes are as expected and the DataFrame uses 3.2KB memory."
   ]
  },
  {
   "cell_type": "code",
   "execution_count": null,
   "metadata": {},
   "outputs": [],
   "source": [
    "#Print a description of the output\n",
    "print(\"Description of the OPW Dataset\")\n",
    "New_Dataset.describe()\n",
    "#if parentheses ()are not used, all columns will display but no useful summary statistics!"
   ]
  },
  {
   "cell_type": "markdown",
   "metadata": {},
   "source": [
    "According to pandas 0.25.1 documentation:\n",
    "> For numeric data, the result’s index will include count, mean, std, min, max as well as lower, 50 and upper percentiles. \n",
    ". By default the lower percentile is 25 and the upper percentile is 75. The 50 percentile is the same as the median.\n",
    "\n",
    "The output confirms that there are 100 data points\n",
    "A large amount of free sites produces unusual results in many of the columns e.g. the 25% and 50% quartiles are zero across the range.\n",
    "The standard deviations listed give an indication of the distance between the mean and all values, this figure is affected by the free entrance to over half of the sites in the dataset where tickets prices are concerned."
   ]
  },
  {
   "cell_type": "markdown",
   "metadata": {},
   "source": [
    "### Data Visualisation:  Region and Visitor Numbers"
   ]
  },
  {
   "cell_type": "code",
   "execution_count": 32,
   "metadata": {},
   "outputs": [
    {
     "name": "stdout",
     "output_type": "stream",
     "text": [
      "Countplot of the Random Choice function applied to 7 OPW Regions\n"
     ]
    },
    {
     "data": {
      "image/png": "[encoded data removed]",
      "text/plain": [
       "<Figure size 432x288 with 1 Axes>"
      ]
     },
     "metadata": {
      "needs_background": "light"
     },
     "output_type": "display_data"
    }
   ],
   "source": [
    "#Print a description of the output\n",
    "print(\"Countplot of the Random Choice function applied to 7 OPW Regions\")\n",
    "#Code amended from https://stackoverflow.com/questions/42528921/how-to-prevent-overlapping-x-axis-labels-in-sns-countplot\n",
    "ax = sns.countplot(x=\"Region\", data=New_Dataset)\n",
    "ax.set_xticklabels(ax.get_xticklabels(), rotation=40, ha=\"right\")\n",
    "plt.tight_layout()\n",
    "plt.show()"
   ]
  },
  {
   "cell_type": "code",
   "execution_count": 33,
   "metadata": {},
   "outputs": [
    {
     "data": {
      "text/plain": [
       "[Text(0, 0, 'South-West'),\n",
       " Text(0, 0, 'West'),\n",
       " Text(0, 0, 'North-West'),\n",
       " Text(0, 0, 'Dublin'),\n",
       " Text(0, 0, 'Shannon'),\n",
       " Text(0, 0, 'South-East'),\n",
       " Text(0, 0, 'Midlands & East Coast')]"
      ]
     },
     "execution_count": 33,
     "metadata": {},
     "output_type": "execute_result"
    },
    {
     "data": {
      "image/png": "[encoded data removed]",
      "text/plain": [
       "<Figure size 432x288 with 1 Axes>"
      ]
     },
     "metadata": {
      "needs_background": "light"
     },
     "output_type": "display_data"
    }
   ],
   "source": [
    "#code adapted from https://seaborn.pydata.org/generated/seaborn.boxplot.html\n",
    "ax = sns.boxplot(x=\"Region\", y=\"New_Vis_Numbers\", data=New_Dataset)\n",
    "ax.set_xticklabels(ax.get_xticklabels(), rotation=40, ha=\"right\")\n",
    "#plt.tight_layout()\n",
    "#plt.show()"
   ]
  },
  {
   "cell_type": "markdown",
   "metadata": {},
   "source": [
    "#### Observations on the BoxPlot"
   ]
  },
  {
   "cell_type": "markdown",
   "metadata": {},
   "source": [
    "* The minimum is represented by the lowermost line (a \"whisker\")\n",
    "* The maximum value is the uppermost line (a \"whisker\")\n",
    "* The lowermost end of each box is quartile 1, the uppermost represents quartile 3\n",
    "* The second quartile (the median) is the line inside the box.\n",
    "* The circles that appear on the plot indicate outliers\n",
    "* A compact box indicates less variation in the values\n",
    "\n",
    "The Dataset upon which this project is based indicated a strong relationship between the Region and the Visitor Numbers.\n",
    "The synthesised data was unable to replicate this nuance and the above boxplot diplays an expected uniform distribution."
   ]
  },
  {
   "cell_type": "markdown",
   "metadata": {},
   "source": [
    "### Data Visualisation:  Histograms of all Numerical Data"
   ]
  },
  {
   "cell_type": "code",
   "execution_count": 35,
   "metadata": {},
   "outputs": [
    {
     "name": "stdout",
     "output_type": "stream",
     "text": [
      "Data Visualisation - Histograms setting out all numerical data\n"
     ]
    },
    {
     "data": {
      "image/png": "[encoded data removed]",
      "text/plain": [
       "<Figure size 1080x432 with 4 Axes>"
      ]
     },
     "metadata": {
      "needs_background": "light"
     },
     "output_type": "display_data"
    }
   ],
   "source": [
    "#code adapted from https://towardsdatascience.com/how-to-perform-exploratory-data-analysis-with-seaborn-97e3413e841d\n",
    "New_Dataset.hist(bins=15, figsize=(15, 6), layout=(2, 2));\n",
    "print (\"Data Visualisation - Histograms setting out all numerical data\")"
   ]
  },
  {
   "cell_type": "markdown",
   "metadata": {},
   "source": [
    "#### Observations on the Histograms"
   ]
  },
  {
   "cell_type": "markdown",
   "metadata": {},
   "source": [
    "Adults Entrance Fee / Visitor Numbers\n",
    "\n",
    "The fact that 51% of Heritage Sites have free entry, skews the distribution somewhat.  \n",
    "Both the Adult Entrance Fee and Visitor Numbers plots can be seen to have discrete uniform distribution which corresponds with the documentation for that library.\n",
    "\n",
    "Cafe/Year Round Opening\n",
    "\n",
    "It is understood that the zero value indicates a false statement and one means the statement is true.\n",
    "When writing the script to randomly generate numbers regarding the availability of a Cafe on site or Year Round Opening a degree of control was exerted in that the distribution is a fixed binomial distribution. However, the boolean value will be applied to the unique Heritage Site in a random way.\n",
    "The data visualised in the histograms met those precise requirements.  \n",
    "\n",
    "\n"
   ]
  },
  {
   "cell_type": "markdown",
   "metadata": {},
   "source": [
    "### Relationships between Variables - correlation"
   ]
  },
  {
   "cell_type": "markdown",
   "metadata": {},
   "source": [
    "In Section 2, while still dealing with the original OPW Dataset, I observed a strong relationship between the Region and the Visitor Numbers i.e., that Regions along the eastern seaboard had more visitors and wrote that I did not expect to easily recreate it with synthesised data. \n",
    "\n",
    "In Section 3, the synthesised data produced a uniform  distribution wihout any strong relationships between location and visitor numbers.\n",
    "\n",
    "Correlation is a statistical measure that can be used to describe one variable in terms of its relationship with another.\n",
    "Covariance is a measure of the association/relationship between two variables X and Y.\n",
    "The synthesised data does not meet the assumptions that must be met (e.g. normally distributed data) in order to apply Pearson's Correlation (the one that is called by .corr()) however I will run the script as an example of the type of output that can be produced.  \n",
    "\n",
    "It is straightfoward to call the correlation function (see below) but what do this output mean?\n",
    "* values around 1 indicates a strong positive relationship\n",
    "* values around 0 indicates the variables are not linearly correlated\n",
    "* values around -1 indicate a strong negative relationship\n",
    "\n",
    "The results below, therefore, indicate no linear correlation/strong negative relationships between the variables.\n",
    "The value of 1 is output when the same two variables are compared to one another e.g. Cafe and Cafe.\n"
   ]
  },
  {
   "cell_type": "code",
   "execution_count": 36,
   "metadata": {},
   "outputs": [
    {
     "data": {
      "text/html": [
       "<div>\n",
       "<style scoped>\n",
       "    .dataframe tbody tr th:only-of-type {\n",
       "        vertical-align: middle;\n",
       "    }\n",
       "\n",
       "    .dataframe tbody tr th {\n",
       "        vertical-align: top;\n",
       "    }\n",
       "\n",
       "    .dataframe thead th {\n",
       "        text-align: right;\n",
       "    }\n",
       "</style>\n",
       "<table border=\"1\" class=\"dataframe\">\n",
       "  <thead>\n",
       "    <tr style=\"text-align: right;\">\n",
       "      <th></th>\n",
       "      <th>New_Vis_Numbers</th>\n",
       "      <th>Adult</th>\n",
       "      <th>Cafe</th>\n",
       "      <th>Year Round Opening</th>\n",
       "    </tr>\n",
       "  </thead>\n",
       "  <tbody>\n",
       "    <tr>\n",
       "      <th>New_Vis_Numbers</th>\n",
       "      <td>1.000000</td>\n",
       "      <td>0.106445</td>\n",
       "      <td>-0.146040</td>\n",
       "      <td>-0.096163</td>\n",
       "    </tr>\n",
       "    <tr>\n",
       "      <th>Adult</th>\n",
       "      <td>0.106445</td>\n",
       "      <td>1.000000</td>\n",
       "      <td>-0.020486</td>\n",
       "      <td>0.123233</td>\n",
       "    </tr>\n",
       "    <tr>\n",
       "      <th>Cafe</th>\n",
       "      <td>-0.146040</td>\n",
       "      <td>-0.020486</td>\n",
       "      <td>1.000000</td>\n",
       "      <td>0.445057</td>\n",
       "    </tr>\n",
       "    <tr>\n",
       "      <th>Year Round Opening</th>\n",
       "      <td>-0.096163</td>\n",
       "      <td>0.123233</td>\n",
       "      <td>0.445057</td>\n",
       "      <td>1.000000</td>\n",
       "    </tr>\n",
       "  </tbody>\n",
       "</table>\n",
       "</div>"
      ],
      "text/plain": [
       "                    New_Vis_Numbers     Adult      Cafe  Year Round Opening\n",
       "New_Vis_Numbers            1.000000  0.106445 -0.146040           -0.096163\n",
       "Adult                      0.106445  1.000000 -0.020486            0.123233\n",
       "Cafe                      -0.146040 -0.020486  1.000000            0.445057\n",
       "Year Round Opening        -0.096163  0.123233  0.445057            1.000000"
      ]
     },
     "execution_count": 36,
     "metadata": {},
     "output_type": "execute_result"
    }
   ],
   "source": [
    "New_Dataset.corr()"
   ]
  },
  {
   "cell_type": "markdown",
   "metadata": {},
   "source": [
    "### Final Observations and Summary of Project"
   ]
  },
  {
   "cell_type": "markdown",
   "metadata": {},
   "source": [
    "**Choice of phenomenon to explore**.\n",
    "\n",
    "In this instance, I used a pre-existing DataSet to base the project on.\n",
    "I observed that there was room for improvement in terms of the quality and layout of the data in it.\n",
    "I spent some time investigating the variables, relationships and distributions in order to recreate it."
   ]
  },
  {
   "cell_type": "markdown",
   "metadata": {},
   "source": [
    "**Software used in the Project**\n",
    "\n",
    "The libraries/packages used were:\n",
    "* NumPy package <br>\n",
    "* Pandas library <br>\n",
    "* Seaborn package <br>\n",
    "* Matplotlib library <br>"
   ]
  },
  {
   "cell_type": "markdown",
   "metadata": {},
   "source": [
    "**Simulation of Data**\n",
    "\n",
    "\n",
    "Each variable was synthesised separately using a selection of rules which are set out in Section 2.<br>\n",
    "The following functions from the numpy.random package were used: <br>\n",
    "* random.choice\n",
    "* random.permutation\n",
    "* random.randint\n",
    "* random.binomial\n",
    "\n",
    "An argument to have the output in a pandas dataframe format was included in every script.\n",
    "While I was preparing this Project I printed the output to ensure it was correct.\n",
    "Once the script was debugged, I \"commented\" the piece of code so that it will no longer print out the results for every section of simulated data, however, the choice is there for another user.\n",
    "I chose to do this following on from lecturer feedback in a previous assignment - big tables of data don't convey much information and it is better to carry out analysis/visualisation on the entire dataset later on.\n",
    "\n",
    "Finally, the pandas concatentate function was called to merge all the new dataframes into one dataset for analysis.\n"
   ]
  },
  {
   "cell_type": "markdown",
   "metadata": {},
   "source": [
    "**Investigate the types of variables involved, their likely distributions, and their relationships with each other**\n",
    "\n",
    "The variables in a dataset produced by the Government Department responsible for the National Monuments of Ireland included many points of interest to a visitor previously mentioned. \n",
    "I focussed on a selection that would be easily reproduced:\n",
    "\n",
    "* Price of Entry, an integer - based on the price points for an adult in 2015\n",
    "* No. of Visitors to each site,an integer - based on the lowest and highest numbers in 2015\n",
    "* The seven geographic regions that the sites are dispersed amongst - objects\n",
    "* Whether or not there is a cafe or year round opening at Heritage Site\n",
    "\n",
    "The method of generating the random data produced uniform distributions (as shown in histogram and box-plot data visualisations) with the exception of the cafe and opening times where a binomial distibution was used because of the boolean nature of the output.\n",
    "Over 50% of the Heritage Sites are free to enter, I felt it was important to include this value in the synthesised data which produced interesting data visualisations.\n",
    "\n",
    "I used the correlation function in pandas to investigate if there were any strong relationships between the variables- there was not."
   ]
  },
  {
   "cell_type": "markdown",
   "metadata": {},
   "source": [
    "***"
   ]
  },
  {
   "cell_type": "markdown",
   "metadata": {},
   "source": [
    "## References used in completing the project"
   ]
  },
  {
   "cell_type": "markdown",
   "metadata": {},
   "source": [
    "Assignment 2019 for Programming for Data Analysis module, GMIT. [Online] <br>\n",
    "Available on: https://github.com/ClodaghMurphy/Assignment-2019-progda [viewed 26 november 2019]<br>\n",
    "\n",
    "Concatenate rows of two dataframes in pandas [Online]<br>\n",
    "Available on:  https://stackoverflow.com/questions/28135436/concatenate-rows-of-two-dataframes-in-pandas [viewed 8 December 2019]<br>\n",
    "\n",
    "Dan Friedman's Data Science Knowledge Base[Online]<br>\n",
    "Available on: https://dfrieds.com/   [viewed 30 November 2019]<br>\n",
    "\n",
    "Failte Ireland: Key Tourism Facts 2018 [Online] <br>\n",
    "Available on:  https://www.failteireland.ie/FailteIreland/media/WebsiteStructure/Documents/3_Research_Insights/Key-Tourism-Facts-2018.pdf?ext=.pdf [viewed 13 December 2019 <br>\n",
    "\n",
    "How do I fix a Unicode error while reading a CSV file with a pandas library in Python 3.6? [Online]<br>\n",
    "Available on: https://www.quora.com/How-do-I-fix-a-Unicode-error-while-reading-a-CSV-file-with-a-pandas-library-in-Python-3-6 [viewed 26 November 2019]<br>\n",
    "\n",
    "How to convert Numpy array to Panda DataFrame  [Online]<br>\n",
    "https://stackoverflow.com/questions/53816008/how-to-convert-numpy-array-to-panda-dataframe [viewed 8 December 2019]<br>\n",
    "\n",
    "How to Perform Exploratory Data Analysis with Seaborn  [Online]<br>\n",
    "Available on: https://towardsdatascience.com/how-to-perform-exploratory-data-analysis-with-seaborn-97e3413e841d  [viewed 30 November 2019]<br>\n",
    "\n",
    "Introduction to Correlation [Online] <br>\n",
    "Available on : https://blogs.oracle.com/datascience/introduction-to-correlation [viewed 13 December 2019]\n",
    "\n",
    "Normal Distribution [Online] <br>\n",
    "Available on: http://mathworld.wolfram.com/NormalDistribution.html [viewed 7 December 2019]<br>\n",
    "\n",
    "Normal distributions review [Online]<br>\n",
    "Available on: https://www.khanacademy.org/math/statistics-probability/modeling-distributions-of-data/normal-distributions-library/a/normal-distributions-review   [viewed 7 December 2019]<br>\n",
    "\n",
    "OPW OPEN DATA SETS   [Online]<br>\n",
    "Available on: https://www.opw.ie/en/opendata/#d.en.34620 [viewed 26 November 2019]<br>\n",
    "\n",
    "pandas concat [Online]<br>\n",
    "https://pandas.pydata.org/pandas-docs/version/0.23.4/generated/pandas.concat.html  [viewed 8 December 2019]\n",
    "\n",
    "Python Histogram Plotting: NumPy, Matplotlib, Pandas & Seaborn [Online] <br>\n",
    "Available on: https://realpython.com/python-histograms/ [viewed 14 December 2019] <br>\n",
    "\n",
    "Python random.sample() function to Choose multiple items from list [Online] <br>\n",
    "Available on: https://pynative.com/python-random-sample/ [viewed 30 november 2019] <br>\n",
    "\n",
    "Random sampling (numpy.random) [online] <br>\n",
    "Available on: https://docs.scipy.org/doc/numpy-1.15.0/reference/routines.random.html [viewed 3 December 2019]<br>\n",
    "\n",
    "The Engineering World Pearson Correlation - Parametric Methods in Pandas and Scipy in Python - Tutorial 14 [Online] <br>\n",
    "Available on : https://www.youtube.com/watch?v=sCkS-0kIRCE [viewed 13 December 2019]\n",
    "\n",
    "The Pandas DataFrame – loading, editing, and viewing data in Python  [Online]<br>\n",
    "Available on: https://www.shanelynn.ie/using-pandas-dataframe-creating-editing-viewing-data-in-python/ [viewed 26 November 2019]<br>\n",
    "\n",
    "Using iloc to set values [Online]<br>\n",
    "Available on: https://stats.stackexchange.com/questions/283572/using-iloc-to-set-values/283575  [viewed 7 December 2019]<br>\n",
    "\n",
    "\n"
   ]
  },
  {
   "cell_type": "markdown",
   "metadata": {},
   "source": [
    "End"
   ]
  },
  {
   "cell_type": "code",
   "execution_count": null,
   "metadata": {},
   "outputs": [],
   "source": []
  }
 ],
 "metadata": {
  "kernelspec": {
   "display_name": "Python 3",
   "language": "python",
   "name": "python3"
  },
  "language_info": {
   "codemirror_mode": {
    "name": "ipython",
    "version": 3
   },
   "file_extension": ".py",
   "mimetype": "text/x-python",
   "name": "python",
   "nbconvert_exporter": "python",
   "pygments_lexer": "ipython3",
   "version": "3.7.1"
  }
 },
 "nbformat": 4,
 "nbformat_minor": 2
}
